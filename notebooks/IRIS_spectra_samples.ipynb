{
 "cells": [
  {
   "cell_type": "markdown",
   "id": "d2a2a32b",
   "metadata": {},
   "source": [
    "# IRIS Spectra\n",
    "\n",
    "\n"
   ]
  },
  {
   "cell_type": "code",
   "execution_count": null,
   "id": "bb0569fb",
   "metadata": {},
   "outputs": [],
   "source": [
    "!pip install -U tqdm\n",
    "!pip install -U numpy\n",
    "!pip install -U matplotlib \n",
    "!pip install -U Pillow\n",
    "!pip install -U pandas\n",
    "!pip install -U sklearn"
   ]
  },
  {
   "cell_type": "markdown",
   "id": "4f183d10",
   "metadata": {},
   "source": [
    "## Download of Data\n",
    "\n",
    "For this demo case, we use a subset of the IRIS spectra.\n",
    "\n",
    "Actually, we prepared three different subsets of different size and containing a different number of spectra:\n",
    "* 20k spectra\n",
    "* 100k spectra\n",
    "* 1M spectra\n",
    "\n",
    "Can be downloaded from https://www.cs.technik.fhnw.ch/iris/sample_data/."
   ]
  },
  {
   "cell_type": "code",
   "execution_count": null,
   "id": "bf563a30",
   "metadata": {},
   "outputs": [],
   "source": [
    "!mkdir -p ./iris\n",
    "!curl -L https://www.cs.technik.fhnw.ch/iris/sample_data/iris_sample_spectra_20000.npz > iris_sample_spectra_20000.npz\n",
    "!unzip -q -o iris_sample_spectra_20000.npz -d ./iris\n",
    "!rm -f iris_sample_spectra_20000.npz"
   ]
  },
  {
   "cell_type": "code",
   "execution_count": null,
   "id": "d5fb20d5",
   "metadata": {},
   "outputs": [],
   "source": [
    "DATADIR = \"./iris\""
   ]
  },
  {
   "cell_type": "code",
   "execution_count": null,
   "id": "0b8246be",
   "metadata": {},
   "outputs": [],
   "source": [
    "import os\n",
    "import numpy as np \n",
    "import pandas as pd\n",
    "from sklearn.cluster import KMeans"
   ]
  },
  {
   "cell_type": "code",
   "execution_count": null,
   "id": "68d60aee",
   "metadata": {},
   "outputs": [],
   "source": [
    "X_train = np.load(os.path.join(DATADIR, 'X_train.npy')).squeeze()\n",
    "X_test = np.load(os.path.join(DATADIR, 'X_test.npy')).squeeze()\n",
    "y_train = np.load(os.path.join(DATADIR, 'y_train.npy'))\n",
    "y_test = np.load(os.path.join(DATADIR, 'y_test.npy'))"
   ]
  },
  {
   "cell_type": "code",
   "execution_count": null,
   "id": "a9e830ab",
   "metadata": {
    "scrolled": false
   },
   "outputs": [],
   "source": [
    "print(X_train.shape, y_train.shape, X_test.shape, y_test.shape)"
   ]
  },
  {
   "cell_type": "markdown",
   "id": "a5710c59",
   "metadata": {},
   "source": [
    "The spectra come as the intensity values for 240 channels covering the wavelength range 2794.14-2805.72 Angstroms.\n",
    "\n",
    "Furthermore, the data are labeled with status information about the sun at the time of collecting the data:\n",
    "\n",
    "Quite Sun (QS), Sun Spot (SS), Active Region (AR), Pre-Flare (PF) and Flare (FL). \n",
    "\n",
    "The Pre-Flare state indicates that the sun will be in Flare state in the next 25min.\n",
    "\n",
    "The Flare state is characterized by having at least a M-class flare."
   ]
  },
  {
   "cell_type": "code",
   "execution_count": null,
   "id": "ef9c49e2",
   "metadata": {},
   "outputs": [],
   "source": [
    "set(y_train)"
   ]
  },
  {
   "cell_type": "markdown",
   "id": "daf1a4d1",
   "metadata": {},
   "source": [
    "## Data Exploration\n",
    "\n",
    "Lets plot a few examples - the frequency domain is in a range of of the MagII line which is of some interest for studying the dynamics of the solar atmosphere."
   ]
  },
  {
   "cell_type": "code",
   "execution_count": null,
   "id": "d2c3bea1",
   "metadata": {},
   "outputs": [],
   "source": [
    "import matplotlib.pyplot as plt"
   ]
  },
  {
   "cell_type": "markdown",
   "id": "9b936423",
   "metadata": {},
   "source": [
    "#### Plot some sample spectra"
   ]
  },
  {
   "cell_type": "code",
   "execution_count": null,
   "id": "e4adeab0",
   "metadata": {},
   "outputs": [],
   "source": [
    "nsamples = 20\n",
    "\n",
    "samples = [np.random.choice(X_train.shape[0]) for i in range(nsamples)]\n",
    "\n",
    "ncols = 4\n",
    "nrows = int(20/ncols) + (0 if nsamples % ncols == 0 else 1)\n",
    "plt.figure( figsize=(nrows*3,ncols*3) )\n",
    "i = 0\n",
    "for r in range(nrows):\n",
    "    for c in range(ncols):\n",
    "        sample = samples[i]\n",
    "        plt.subplot( nrows, ncols, i+1 )\n",
    "        plt.title( \"Sample %i: %s\"%(sample, y_train[sample]))\n",
    "        plt.plot( np.arange(240), X_train[sample])\n",
    "        i += 1\n",
    "plt.tight_layout()"
   ]
  },
  {
   "cell_type": "markdown",
   "id": "571d5498",
   "metadata": {},
   "source": [
    "## Perform a k-means clustering for characterizing the spectra"
   ]
  },
  {
   "cell_type": "code",
   "execution_count": null,
   "id": "3d610d08",
   "metadata": {},
   "outputs": [],
   "source": [
    "ks = np.array([3,5,10,15,20,30,50,75,100])\n",
    "distances_train = []\n",
    "distances_test = []\n",
    "for k in ks:\n",
    "    kmeans = KMeans(n_clusters=k, random_state=0).fit(X_train)\n",
    "    distances_train.append(kmeans.inertia_)\n",
    "    distances_test.append((np.min(kmeans.transform(X_test), axis=1)**2).sum())\n"
   ]
  },
  {
   "cell_type": "code",
   "execution_count": null,
   "id": "1252db2d",
   "metadata": {},
   "outputs": [],
   "source": [
    "plt.plot(ks, distances_train, 'b')\n",
    "plt.plot(ks, distances_train, 'r')\n",
    "plt.title(\"Min Squared Distance\")\n",
    "plt.xlabel(\"k\")"
   ]
  },
  {
   "cell_type": "code",
   "execution_count": null,
   "id": "c6d8585a",
   "metadata": {},
   "outputs": [],
   "source": [
    "k = 50\n",
    "kmeans = KMeans(n_clusters=k, random_state=0).fit(X_train)\n",
    "labels = kmeans.labels_"
   ]
  },
  {
   "cell_type": "code",
   "execution_count": null,
   "id": "7d1588c4",
   "metadata": {},
   "outputs": [],
   "source": [
    "ncols = 5\n",
    "nrows = int(k/ncols) + (0 if k % ncols == 0 else 1)\n",
    "plt.figure( figsize=(nrows*3,ncols*3) )\n",
    "bins = np.arange(240) \n",
    "\n",
    "for i in range(k):\n",
    "    cluster = X_train[labels==i]\n",
    "    plt.subplot( nrows, ncols, i+1 )\n",
    "    plt.title( \"Cluster %i\"%i)\n",
    "    for s in range(cluster.shape[0]):\n",
    "        sample = cluster[s]\n",
    "        plt.plot( bins, sample)\n",
    "\n",
    "plt.tight_layout()"
   ]
  },
  {
   "cell_type": "code",
   "execution_count": null,
   "id": "8d08b31d",
   "metadata": {},
   "outputs": [],
   "source": []
  }
 ],
 "metadata": {
  "kernelspec": {
   "display_name": "Python (rodem-tutorial)",
   "language": "python",
   "name": "rodem-tutorial"
  },
  "language_info": {
   "codemirror_mode": {
    "name": "ipython",
    "version": 3
   },
   "file_extension": ".py",
   "mimetype": "text/x-python",
   "name": "python",
   "nbconvert_exporter": "python",
   "pygments_lexer": "ipython3",
   "version": "3.9.6"
  }
 },
 "nbformat": 4,
 "nbformat_minor": 5
}
